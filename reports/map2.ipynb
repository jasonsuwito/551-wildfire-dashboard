{
 "cells": [
  {
   "cell_type": "code",
   "execution_count": 3,
   "id": "1d2e9e56-f77f-4ef8-960f-ad2446846583",
   "metadata": {},
   "outputs": [
    {
     "data": {
      "text/html": [
       "\n",
       "        <iframe\n",
       "            width=\"100%\"\n",
       "            height=\"650\"\n",
       "            src=\"http://127.0.0.1:8050/\"\n",
       "            frameborder=\"0\"\n",
       "            allowfullscreen\n",
       "            \n",
       "        ></iframe>\n",
       "        "
      ],
      "text/plain": [
       "<IPython.lib.display.IFrame at 0x25fb2d65820>"
      ]
     },
     "metadata": {},
     "output_type": "display_data"
    }
   ],
   "source": [
    "import dash\n",
    "from dash import dcc, html, Input, Output\n",
    "import pandas as pd\n",
    "import folium\n",
    "import uuid\n",
    "import os\n",
    "\n",
    "# Load data\n",
    "data_bc = pd.read_csv('final.csv')\n",
    "\n",
    "# Ensure lat/lon are numeric\n",
    "data_bc['LATITUDE'] = pd.to_numeric(data_bc['LATITUDE'], errors='coerce')\n",
    "data_bc['LONGITUDE'] = pd.to_numeric(data_bc['LONGITUDE'], errors='coerce')\n",
    "\n",
    "# Initialize Dash app\n",
    "app = dash.Dash(__name__)\n",
    "\n",
    "app.layout = html.Div([\n",
    "    html.H1(\"BC Wildfire Map - Select Feature\", style={'textAlign': 'center'}),\n",
    "\n",
    "    dcc.Dropdown(\n",
    "        id='feature-dropdown',\n",
    "        options=[\n",
    "            {'label': 'Fire Size (SIZE_HA)', 'value': 'SIZE_HA'},\n",
    "            {'label': 'Cause of Fire (CAUSE)', 'value': 'CAUSE'},\n",
    "            {'label': 'Response Type (RESPONSE)', 'value': 'RESPONSE'},\n",
    "            {'label': 'Fire Count (count(FID))', 'value': 'FID'},\n",
    "            {'label': 'Month (MONTH)', 'value': 'MONTH'}\n",
    "        ],\n",
    "        placeholder='Select a feature...',\n",
    "        value='SIZE_HA',\n",
    "        clearable=False\n",
    "    ),\n",
    "\n",
    "    html.Iframe(\n",
    "        id='bc-map',\n",
    "        style={'width': '100%', 'height': '600px', 'border': 'none'}\n",
    "    )\n",
    "])\n",
    "\n",
    "@app.callback(\n",
    "    Output('bc-map', 'srcDoc'),\n",
    "    Input('feature-dropdown', 'value')\n",
    ")\n",
    "def update_map(selected_feature):\n",
    "    \"\"\"Generate and update a wildfire map based on the selected feature.\"\"\"\n",
    "    map_center = [data_bc['LATITUDE'].mean(), data_bc['LONGITUDE'].mean()]\n",
    "    m = folium.Map(location=map_center, zoom_start=6, tiles=\"OpenStreetMap\")\n",
    "\n",
    "    # Add wildfire markers\n",
    "    for _, row in data_bc.iterrows():\n",
    "        if pd.notnull(row['LATITUDE']) and pd.notnull(row['LONGITUDE']):\n",
    "            fire_size = row.get('SIZE_HA', 1)  # Default if missing\n",
    "            color = \"red\"\n",
    "\n",
    "            # Modify color based on feature\n",
    "            if selected_feature == \"SIZE_HA\":\n",
    "                color = \"darkred\" if fire_size > 1000 else \"lightred\"\n",
    "            elif selected_feature == \"CAUSE\":\n",
    "                color = \"blue\" if row.get(\"CAUSE\") == \"Lightning\" else \"orange\"\n",
    "            elif selected_feature == \"RESPONSE\":\n",
    "                color = \"green\" if row.get(\"RESPONSE\") == \"Under Control\" else \"purple\"\n",
    "            elif selected_feature == \"MONTH\":\n",
    "                chart = base_chart.encode(color='MONTH:N')\n",
    "\n",
    "            folium.CircleMarker(\n",
    "                location=[row['LATITUDE'], row['LONGITUDE']],\n",
    "                radius=max(3, min(12, fire_size / 500)),  # Scale size\n",
    "                color=color,\n",
    "                fill=True,\n",
    "                fill_color=color,\n",
    "                fill_opacity=0.6,\n",
    "                popup=f\"Fire Size: {fire_size} ha\\nCause: {row.get('CAUSE', 'Unknown')}\\nResponse: {row.get('RESPONSE', 'Unknown')}\"\n",
    "            ).add_to(m)\n",
    "\n",
    "    # Save map as an HTML file and return its content\n",
    "    map_html = m._repr_html_()\n",
    "    return map_html  # Directly return HTML content\n",
    "\n",
    "if __name__ == '__main__':\n",
    "    app.run_server(debug=True)\n"
   ]
  }
 ],
 "metadata": {
  "kernelspec": {
   "display_name": "Python 3 (ipykernel)",
   "language": "python",
   "name": "python3"
  },
  "language_info": {
   "codemirror_mode": {
    "name": "ipython",
    "version": 3
   },
   "file_extension": ".py",
   "mimetype": "text/x-python",
   "name": "python",
   "nbconvert_exporter": "python",
   "pygments_lexer": "ipython3",
   "version": "3.12.3"
  }
 },
 "nbformat": 4,
 "nbformat_minor": 5
}
